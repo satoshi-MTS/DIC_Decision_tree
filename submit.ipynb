{
 "cells": [
  {
   "cell_type": "markdown",
   "id": "905de864-194a-4958-8313-0e4437699e18",
   "metadata": {},
   "source": [
    "## 【問題1】不純度を求める関数\n",
    "ノード の ジニ不純度 を計算する関数を作成してください。ノード $t$ に対するジニ不純度 $I(t)$ は以下の数式で求まります。クラスが混じり合っているほどジニ不純度は高くなります。\n",
    "$$I(t)=1-\\sum_{i=1}^K P^2(C_i|t)=1-\\sum_{i=1}^K(\\frac{N_{t,i}}{N_{t, all}})^2$$"
   ]
  },
  {
   "cell_type": "code",
   "execution_count": 1,
   "id": "93b27405-df05-4c9d-90ab-88cdadc5e709",
   "metadata": {},
   "outputs": [],
   "source": [
    "def get_gini(count_array):\n",
    "    \n",
    "    \"\"\"\n",
    "    gini不純度を計算する関数\n",
    "    \n",
    "    param\n",
    "    --------------------\n",
    "    count_array : 次の形のndarray(クラス数, )\n",
    "    各クラスに属しているサンプルの数\n",
    "    \n",
    "    return\n",
    "    ---------\n",
    "    gini : float\n",
    "    ジニ不純度\n",
    "    \"\"\"\n",
    "    # 合計値の算出\n",
    "    n_sample = count_array.sum()\n",
    "    \n",
    "    sum_array = np.array([])\n",
    "    \n",
    "    for i in count_array:\n",
    "        sum_array = np.append(sum_array, (i / n_sample) ** 2)\n",
    "    gini = 1 - sum_array.sum()\n",
    "    \n",
    "    return gini"
   ]
  },
  {
   "cell_type": "markdown",
   "id": "2b86a1f2-90ab-478b-9630-aa861a6952e2",
   "metadata": {},
   "source": [
    "# 【問題2】情報利得を求める関数\n",
    "次に、ノード間の 情報利得 を計算する関数を作成してください。問題1で作成したジニ不純度 $I(t)$ を計算する関数を呼び出して使います。情報利得$IG$は以下の数式で求まります。うまく分けられている時ほど情報利得は大きくなります。\n",
    "\n",
    "\n",
    "ここで分岐は2つのみであるため、分岐先を「左側のノード・右側のノード」と呼びます。\n",
    "$$IG(p) = I(p) - \\frac{N_{left,all}}{N_{p, all}}I(left) - \\frac{N_{right,all}}{N_{p, all}}I(right)$$"
   ]
  },
  {
   "cell_type": "code",
   "execution_count": 2,
   "id": "4fccf059-b9d5-41a2-8789-ee3e1fca131a",
   "metadata": {},
   "outputs": [],
   "source": [
    "def get_information_gain(P_array, left_array, right_array):\n",
    "    \"\"\"\n",
    "    情報利得を計算する関数\n",
    "    \n",
    "    param\n",
    "    -------------------\n",
    "    P_array : 次の形のndarray(クラス数, )\n",
    "    各クラスに属している親ノードサンプルの数\n",
    "    left_array : 次の形のndarray(クラス数, )\n",
    "    各クラスに属している左ノードサンプルの数\n",
    "    right_array : 次の形のndarray(クラス数, )\n",
    "    各クラスに属している右ノードサンプルの数\n",
    "    \n",
    "    return\n",
    "    -------------------\n",
    "    情報利得 : float\n",
    "    \"\"\"\n",
    "    \n",
    "    IG = get_gini(P_array) - ((left.sum() / P_array.sum()) * get_gini(left_array)) - ((right.sum() / P_array.sum()) * get_gini(right_array))\n",
    "    return IG"
   ]
  },
  {
   "cell_type": "markdown",
   "id": "6bddbbb0-0f0b-4f5d-8d25-e76c183ed5b2",
   "metadata": {},
   "source": [
    "# 【問題3】学習\n",
    "空間の分割を行い、決定木のグラフを生成するコードを作成してください。今は深さ1の決定木なので、分割を1回だけ行います。ここでグラフを生成するとは、1回の分割の際の条件としてどの特徴量がいくつ以上の時とするかを求めるということです。\n",
    "\n",
    "\n",
    "訓練データに対してすべての組み合わせの分割を行い、その中でノード間の情報利得が最大となる分割をそのノードの分割基準として記録します。\n",
    "\n",
    "\n",
    "クラスが混ざらない不純度が0のノード、または指定された深さのノードが 葉ノード となります。葉ノードにはクラスを記録しておき、これを推定時に分類するクラスとします。クラスが混ざらない場合はそのままのクラスを記録し、混ざっている場合は多数決により決めます。\n",
    "\n",
    "\n",
    "《組み合わせの取り方》\n",
    "\n",
    "\n",
    "すべての組み合わせの取り方は、最も単純には各特徴量の値自体をしきい値にして分割を行う方法があります。片側の端は今回のスクラッチはこの方法で行なってください。\n",
    "\n",
    "\n",
    "他には中間の値をしきい値にする方法もあり、scikit-learnではこの方法が用いられています。\n",
    "\n",
    "\n",
    "《補足》\n",
    "\n",
    "\n",
    "問題2の情報利得を計算する関数はこの問題3で利用する上では、親ノードの不純度 $I(p)$ は固定されるため、左右のノードの不純度の合計を計算するだけでも同じ結果が得られることになります。しかし、ここでは親ノードを考慮した情報利得を計算する実装を行なってください。"
   ]
  },
  {
   "cell_type": "code",
   "execution_count": 3,
   "id": "0002e1bb-d351-4ce3-9be3-6052280da9ac",
   "metadata": {},
   "outputs": [],
   "source": [
    "def fit(X, y):\n",
    "    \n",
    "    #\n",
    "    # 前処理\n",
    "    #\n",
    "    \n",
    "    # yを(n_sample, 1)の形に変更\n",
    "    y = y.reshape(y.shape[0], 1)\n",
    "    \n",
    "    # Xと列方向に結合\n",
    "    Xy = np.concatenate([X, y], axis=1)\n",
    "    \n",
    "    # Xy(親ノード)のクラス分類を取得\n",
    "    Xy_unique, Xy_count = np.unique(Xy[:, 2], return_counts=True)\n",
    "    \n",
    "    # flag用の行列を作成,結合\n",
    "    Xy_flag = np.zeros((Xy.shape[0], 1))\n",
    "    Xy = np.concatenate([Xy, Xy_flag], axis=1)\n",
    "    \n",
    "    # 初期値\n",
    "    max_IG = -1\n",
    "    X_max = -1\n",
    "    \n",
    "    for k in range(Xy.shape[1]-2):\n",
    "        # 特徴量１番目において全ての値で実装\n",
    "        for j in range (len(Xy)):\n",
    "            #\n",
    "            # それぞれ分類後のサンプルを格納するためのndarrayを作成 + ラベル付\n",
    "            #\n",
    "            left_count = 0\n",
    "            right_count = 0\n",
    "            for i in range (len(Xy)):\n",
    "                if Xy[i, k] > Xy[j, k]:\n",
    "                    Xy[i, 3] = 0\n",
    "                    left_count += 1\n",
    "                else:\n",
    "                    # 右に分類されているサンプルの４列目に1を格納\n",
    "                    Xy[i, 3] = 1\n",
    "                    right_count += 1\n",
    "\n",
    "            # 分類後のサンプル数を格納できるような形を作る\n",
    "            left = np.zeros((left_count, Xy.shape[1]))\n",
    "            right = np.zeros((right_count, Xy.shape[1]))\n",
    "\n",
    "            #\n",
    "            # ラベルごとに実際に格納\n",
    "            #\n",
    "\n",
    "            # 格納の順番のために必要、再初期化\n",
    "            left_count = 0\n",
    "            right_count = 0\n",
    "\n",
    "            for i in range (len(Xy)):\n",
    "                if Xy[i, 3] == 0:\n",
    "                    # leftの上から順番に書き換えていく\n",
    "                    left[left_count] = Xy[i]\n",
    "                    left_count += 1\n",
    "\n",
    "                else:\n",
    "                    # rightの上から順番に書き換えていく\n",
    "                    right[right_count] = Xy[i]\n",
    "                    right_count += 1\n",
    "\n",
    "            # 個数が欲しいので分ける\n",
    "            left_unique, left_count = np.unique(left[:, 2], return_counts=True)\n",
    "            right_unique, right_count = np.unique(right[:, 2], return_counts=True)\n",
    "\n",
    "            # 最大利得の時のクラス分けに使用した値と情報利得を取得\n",
    "            IG = get_information_gain(Xy_count, left_count, right_count)\n",
    "        \n",
    "\n",
    "            if max_IG < IG:\n",
    "                max_IG = IG\n",
    "                max_j, max_k = j, k\n",
    "                \n",
    "    #\n",
    "    # 情報利得が一番大きくなる場合\n",
    "    #\n",
    "    \n",
    "    left_count = 0\n",
    "    right_count = 0\n",
    "    for i in range (len(Xy)):\n",
    "        if Xy[i, max_k] > Xy[max_j, max_k]:\n",
    "            Xy[i, 3] = 0\n",
    "            left_count += 1\n",
    "        else:\n",
    "            # 右に分類されているサンプルの４列目に1を格納\n",
    "            Xy[i, 3] = 1\n",
    "            right_count += 1\n",
    "\n",
    "    # 分類後のサンプル数を格納できるような形を作る\n",
    "    left = np.zeros((left_count, Xy.shape[1]))\n",
    "    right = np.zeros((right_count, Xy.shape[1]))\n",
    "\n",
    "    # 格納の順番のために必要、再初期化\n",
    "    left_count = 0\n",
    "    right_count = 0\n",
    "\n",
    "    for i in range (len(Xy)):\n",
    "        if Xy[i, 3] == 0:\n",
    "            # leftの上から順番に書き換えていく\n",
    "            left[left_count] = Xy[i]\n",
    "            left_count += 1\n",
    "\n",
    "        else:\n",
    "            # rightの上から順番に書き換えていく\n",
    "            right[right_count] = Xy[i]\n",
    "            right_count += 1\n",
    "\n",
    "    # 個数が欲しいので分ける\n",
    "    left_unique, left_count = np.unique(left[:, 2], return_counts=True)\n",
    "    right_unique, right_count = np.unique(right[:, 2], return_counts=True)    \n",
    "    \n",
    "    # 3個目のの列を削除        \n",
    "    left = np.delete(left, 3, 1)\n",
    "    right = np.delete(right, 3, 1)\n",
    "    \n",
    "    IG = get_information_gain(Xy_count, left_count, right_count)\n",
    "    \n",
    "    return left_count, right_count"
   ]
  },
  {
   "cell_type": "markdown",
   "id": "ea6689d9-5d02-4009-ac37-6d40cf633fd2",
   "metadata": {},
   "source": [
    "# 【問題4】推定\n",
    "推定する仕組みを実装してください。ScratchDecesionTreeClassifierDepth1クラスの雛形に含まれるpredictメソッドに書き加えてください。\n",
    "\n",
    "\n",
    "入力されたデータの値を学習した条件で判定していき、どの葉ノードに到達するかを見ます。葉ノードにはクラスが記録されているので、これが推定値となります。"
   ]
  },
  {
   "cell_type": "markdown",
   "id": "0cdc007e-6378-4d1c-92d5-b7aa0de1cc3f",
   "metadata": {},
   "source": [
    "# 【問題5】学習と推定\n",
    "機械学習スクラッチ入門のSprintで用意したシンプルデータセット2の2値分類に対してスクラッチ実装の学習と推定を行なってください。\n",
    "\n",
    "\n",
    "scikit-learnによる実装と比べ、正しく動いているかを確認してください。\n",
    "\n",
    "\n",
    "AccuracyやPrecision、Recallなどの指標値はscikit-learnを使用してください。"
   ]
  },
  {
   "cell_type": "code",
   "execution_count": 4,
   "id": "98f48464-4e9a-494e-93c6-303f396b7c85",
   "metadata": {},
   "outputs": [],
   "source": [
    "import numpy as np\n",
    "class ScratchDecesionTreeClassifierDepth1():\n",
    "    \"\"\"\n",
    "    深さ1の決定木分類器のスクラッチ実装\n",
    "    Parameters\n",
    "    ----------\n",
    "    verbose : bool\n",
    "      学習過程を出力する場合はTrue\n",
    "    \"\"\"\n",
    "    def __init__(self, verbose=False):\n",
    "        # ハイパーパラメータを属性として記録\n",
    "        self.verbose = verbose\n",
    "        \n",
    "    \n",
    "    def get_gini(self, count_array):\n",
    "    \n",
    "        \"\"\"\n",
    "        gini不純度を計算する関数\n",
    "\n",
    "        param\n",
    "        --------------------\n",
    "        count_array : 次の形のndarray(クラス数, )\n",
    "        各クラスに属しているサンプルの数\n",
    "\n",
    "        return\n",
    "        ---------\n",
    "        gini : float\n",
    "        ジニ不純度\n",
    "        \"\"\"\n",
    "        # 合計値の算出\n",
    "        n_sample = count_array.sum()\n",
    "\n",
    "        sum_array = np.array([])\n",
    "\n",
    "        for i in count_array:\n",
    "            sum_array = np.append(sum_array, (i / n_sample) ** 2)\n",
    "        gini = 1 - sum_array.sum()\n",
    "\n",
    "        return gini\n",
    "    \n",
    "    \n",
    "    def get_information_gain(self, P_array, left_array, right_array):\n",
    "        \"\"\"\n",
    "        情報利得を計算する関数\n",
    "\n",
    "        param\n",
    "        -------------------\n",
    "        P_array : 次の形のndarray(クラス数, )\n",
    "        各クラスに属している親ノードサンプルの数\n",
    "        left_array : 次の形のndarray(クラス数, )\n",
    "        各クラスに属している左ノードサンプルの数\n",
    "        right_array : 次の形のndarray(クラス数, )\n",
    "        各クラスに属している右ノードサンプルの数\n",
    "\n",
    "        return\n",
    "        -------------------\n",
    "        情報利得 : float\n",
    "        \"\"\"\n",
    "\n",
    "        IG = self.get_gini(P_array) - ((left_array.sum() / P_array.sum()) * self.get_gini(left_array)) - ((right_array.sum() / P_array.sum()) * self.get_gini(right_array))\n",
    "        return IG\n",
    "        \n",
    "        \n",
    "    def fit(self, X, y):\n",
    "        \n",
    "        \"\"\"\n",
    "        情報利得が最大になる特徴量の値を取得する\n",
    "        \n",
    "        param\n",
    "        ------------------\n",
    "        X : 次の形のndarray(n_sample, n_feature)\n",
    "        訓練データの特徴量\n",
    "        y : 次の形のndarray(n_sample, 1)\n",
    "        訓練データの正解ラベル\n",
    "        \"\"\"\n",
    "\n",
    "        #\n",
    "        # 前処理\n",
    "        #\n",
    "\n",
    "        # yを(n_sample, 1)の形に変更\n",
    "        y = y.reshape(y.shape[0], 1)\n",
    "\n",
    "        # Xと列方向に結合\n",
    "        Xy = np.concatenate([X, y], axis=1)\n",
    "\n",
    "        # Xy(親ノード)のクラス分類を取得\n",
    "        Xy_unique, Xy_count = np.unique(Xy[:, 2], return_counts=True)\n",
    "\n",
    "        # flag用の行列を作成,結合\n",
    "        Xy_flag = np.zeros((Xy.shape[0], 1))\n",
    "        Xy = np.concatenate([Xy, Xy_flag], axis=1)\n",
    "\n",
    "        # 初期値\n",
    "        max_IG = -1\n",
    "        X_max = -1\n",
    "\n",
    "        for col in range(Xy.shape[1]-2):\n",
    "            # 特徴量１番目において全ての値で実装\n",
    "            for index in range (len(Xy)):\n",
    "                #\n",
    "                # それぞれ分類後のサンプルを格納するためのndarrayを作成 + ラベル付\n",
    "                #\n",
    "                left_count = 0\n",
    "                right_count = 0\n",
    "                for i in range (len(Xy)):\n",
    "                    if Xy[i, col] <= Xy[index, col]:\n",
    "                        Xy[i, 3] = 0\n",
    "                        left_count += 1\n",
    "                    else:\n",
    "                        # 右に分類されているサンプルの４列目に1を格納\n",
    "                        Xy[i, 3] = 1\n",
    "                        right_count += 1\n",
    "\n",
    "                # 分類後のサンプル数を格納できるような形を作る\n",
    "                left = np.zeros((left_count, Xy.shape[1]))\n",
    "                right = np.zeros((right_count, Xy.shape[1]))\n",
    "\n",
    "                #\n",
    "                # ラベルごとに実際に格納\n",
    "                #\n",
    "\n",
    "                # 格納の順番のために必要、再初期化\n",
    "                left_count = 0\n",
    "                right_count = 0\n",
    "\n",
    "                for i in range (len(Xy)):\n",
    "                    if Xy[i, 3] == 0:\n",
    "                        # leftの上から順番に書き換えていく\n",
    "                        left[left_count] = Xy[i]\n",
    "                        left_count += 1\n",
    "\n",
    "                    else:\n",
    "                        # rightの上から順番に書き換えていく\n",
    "                        right[right_count] = Xy[i]\n",
    "                        right_count += 1\n",
    "\n",
    "                # 個数が欲しいので分ける\n",
    "                left_unique, left_count = np.unique(left[:, 2], return_counts=True)\n",
    "                right_unique, right_count = np.unique(right[:, 2], return_counts=True)\n",
    "\n",
    "                # 最大利得の時のクラス分けに使用した値と情報利得を取得\n",
    "                IG = self.get_information_gain(Xy_count, left_count, right_count)\n",
    "\n",
    "                # 最大値を取得\n",
    "                if max_IG < IG:\n",
    "                    max_IG = IG\n",
    "                    self.max_IG_index, self.max_IG_col = index, col\n",
    "                    self.max_IG_X = X[index, col]\n",
    "                    \n",
    "                    #学習過程を出力\n",
    "                    if self.verbose:\n",
    "                        display('max_IG : {}'.format(max_IG))\n",
    "                        display('index : {}, col : {}, X : {}'.format(index, col, X[index, col]))\n",
    "                        display('left_count : {}, right_count : {}'.format(left_count, right_count))\n",
    "                    \n",
    "\n",
    "\n",
    "    def predict(self, test_X):\n",
    "        \"\"\"\n",
    "        決定木分類器を使いラベルを推定する\n",
    "        \n",
    "        param\n",
    "        -----------------\n",
    "        X : テストデータの特徴量\n",
    "        \n",
    "        return\n",
    "        -----------------\n",
    "        推定されたラベル\n",
    "        \"\"\"\n",
    "        # predの形作成\n",
    "        pred_y = np.zeros(test_X.shape[0])\n",
    "        \n",
    "        # 閾値より多ければ\n",
    "        for i in range(test_X.shape[0]):\n",
    "            if test_X[i, self.max_IG_col] <= self.max_IG_X:\n",
    "                pred_y[i] = 0\n",
    "            else:\n",
    "                pred_y[i] = 1\n",
    "         \n",
    "        \n",
    "        return pred_y.astype('int')"
   ]
  },
  {
   "cell_type": "markdown",
   "id": "81335584-b5c5-4fc3-a301-8c36a192fb8f",
   "metadata": {},
   "source": [
    "## データの取得"
   ]
  },
  {
   "cell_type": "code",
   "execution_count": 5,
   "id": "ab222e2b-fc8c-4d8a-a913-c0ce634ec24e",
   "metadata": {},
   "outputs": [],
   "source": [
    "X = np.array([\n",
    "    [-0.44699 , -2.8073  ],[-1.4621  , -2.4586  ],\n",
    "    [ 0.10645 ,  1.9242  ],[-3.5944  , -4.0112  ],\n",
    "    [-0.9888  ,  4.5718  ],[-3.1625  , -3.9606  ],\n",
    "    [ 0.56421 ,  0.72888 ],[-0.60216 ,  8.4636  ],\n",
    "    [-0.61251 , -0.75345 ],[-0.73535 , -2.2718  ],\n",
    "    [-0.80647 , -2.2135  ],[ 0.86291 ,  2.3946  ],\n",
    "    [-3.1108  ,  0.15394 ],[-2.9362  ,  2.5462  ],\n",
    "    [-0.57242 , -2.9915  ],[ 1.4771  ,  3.4896  ],\n",
    "    [ 0.58619 ,  0.37158 ],[ 0.6017  ,  4.3439  ],\n",
    "    [-2.1086  ,  8.3428  ],[-4.1013  , -4.353   ],\n",
    "    [-1.9948  , -1.3927  ],[ 0.35084 , -0.031994],\n",
    "    [ 0.96765 ,  7.8929  ],[-1.281   , 15.6824  ],\n",
    "    [ 0.96765 , 10.083   ],[ 1.3763  ,  1.3347  ],\n",
    "    [-2.234   , -2.5323  ],[-2.9452  , -1.8219  ],\n",
    "    [ 0.14654 , -0.28733 ],[ 0.5461  ,  5.8245  ],\n",
    "    [-0.65259 ,  9.3444  ],[ 0.59912 ,  5.3524  ],\n",
    "    [ 0.50214 , -0.31818 ],[-3.0603  , -3.6461  ],\n",
    "    [-6.6797  ,  0.67661 ],[-2.353   , -0.72261 ],\n",
    "    [ 1.1319  ,  2.4023  ],[-0.12243 ,  9.0162  ],\n",
    "    [-2.5677  , 13.1779  ],[ 0.057313,  5.4681  ],\n",
    "])\n",
    "y = np.array([0, 0, 0, 0, 0, 0, 0, 0, 0, 0, 0, 0, 0, 0, 0, 0, 0, 0, 0, 0, 1, 1,\n",
    "       1, 1, 1, 1, 1, 1, 1, 1, 1, 1, 1, 1, 1, 1, 1, 1, 1, 1])"
   ]
  },
  {
   "cell_type": "markdown",
   "id": "9d2b65a4-1bdd-4d68-9502-a4a1e27efc5a",
   "metadata": {},
   "source": [
    "## データの分割"
   ]
  },
  {
   "cell_type": "code",
   "execution_count": 6,
   "id": "9a891cf1-459f-4d02-aa97-2fc110a21880",
   "metadata": {},
   "outputs": [],
   "source": [
    "from sklearn.model_selection import train_test_split\n",
    "X_75, X_25 ,y_75, y_25= train_test_split(X, y, stratify=y, random_state=1)"
   ]
  },
  {
   "cell_type": "markdown",
   "id": "73572fed-98ed-45c6-9fcc-a0148729dfe6",
   "metadata": {},
   "source": [
    "## 公式モデルでの実行"
   ]
  },
  {
   "cell_type": "code",
   "execution_count": 7,
   "id": "0fc354ba-4e6f-467b-8f86-5f3ad7b9f914",
   "metadata": {},
   "outputs": [
    {
     "name": "stdout",
     "output_type": "stream",
     "text": [
      "              precision    recall  f1-score   support\n",
      "\n",
      "           0       1.00      0.20      0.33         5\n",
      "           1       0.56      1.00      0.71         5\n",
      "\n",
      "    accuracy                           0.60        10\n",
      "   macro avg       0.78      0.60      0.52        10\n",
      "weighted avg       0.78      0.60      0.52        10\n",
      "\n"
     ]
    }
   ],
   "source": [
    "from sklearn.tree import DecisionTreeClassifier, plot_tree\n",
    "from sklearn.metrics import classification_report\n",
    "dtc = DecisionTreeClassifier(criterion='gini', max_depth=1, random_state=0)\n",
    "dtc.fit(X_75, y_75)\n",
    "print(classification_report(y_25, dtc.predict(X_25)))"
   ]
  },
  {
   "cell_type": "code",
   "execution_count": 8,
   "id": "6b51be52-64dc-4996-8712-a90846385354",
   "metadata": {},
   "outputs": [
    {
     "data": {
      "text/plain": [
       "array([0, 1, 1, 1, 1, 1, 1, 1, 1, 1])"
      ]
     },
     "execution_count": 8,
     "metadata": {},
     "output_type": "execute_result"
    }
   ],
   "source": [
    "dtc.predict(X_25)"
   ]
  },
  {
   "cell_type": "code",
   "execution_count": 9,
   "id": "7ded3cf7-4b1f-4650-8432-5b473a57301c",
   "metadata": {},
   "outputs": [
    {
     "data": {
      "image/png": "[encoded data removed]",
      "text/plain": [
       "<Figure size 864x576 with 1 Axes>"
      ]
     },
     "metadata": {
      "needs_background": "light"
     },
     "output_type": "display_data"
    }
   ],
   "source": [
    "import matplotlib.pyplot as plt\n",
    "\n",
    "plt.figure(figsize=(12, 8))\n",
    "plot_tree(dtc, class_names=['0', '1'], node_ids=True, rounded=True, filled=True);"
   ]
  },
  {
   "cell_type": "markdown",
   "id": "c1cf815d-1da5-4fca-be21-0ed931932e18",
   "metadata": {},
   "source": [
    "diver上では中間の値と書いてあったがなんの中間値？？？"
   ]
  },
  {
   "cell_type": "code",
   "execution_count": 10,
   "id": "d4090595-7e81-4e43-9aa4-d91cc50c6149",
   "metadata": {},
   "outputs": [
    {
     "data": {
      "text/plain": [
       "array([[-0.12243 ,  9.0162  ],\n",
       "       [ 0.14654 , -0.28733 ],\n",
       "       [-1.281   , 15.6824  ],\n",
       "       [ 0.56421 ,  0.72888 ],\n",
       "       [-1.9948  , -1.3927  ],\n",
       "       [-4.1013  , -4.353   ],\n",
       "       [ 1.3763  ,  1.3347  ],\n",
       "       [-3.0603  , -3.6461  ],\n",
       "       [-0.44699 , -2.8073  ],\n",
       "       [-0.73535 , -2.2718  ],\n",
       "       [-2.234   , -2.5323  ],\n",
       "       [ 0.10645 ,  1.9242  ],\n",
       "       [ 0.5461  ,  5.8245  ],\n",
       "       [-1.4621  , -2.4586  ],\n",
       "       [-2.9452  , -1.8219  ],\n",
       "       [-0.57242 , -2.9915  ],\n",
       "       [-0.9888  ,  4.5718  ],\n",
       "       [-0.80647 , -2.2135  ],\n",
       "       [ 0.6017  ,  4.3439  ],\n",
       "       [ 0.96765 , 10.083   ],\n",
       "       [-2.9362  ,  2.5462  ],\n",
       "       [-2.353   , -0.72261 ],\n",
       "       [ 0.057313,  5.4681  ],\n",
       "       [-2.1086  ,  8.3428  ],\n",
       "       [ 0.50214 , -0.31818 ],\n",
       "       [-0.60216 ,  8.4636  ],\n",
       "       [ 1.1319  ,  2.4023  ],\n",
       "       [-3.5944  , -4.0112  ],\n",
       "       [ 0.58619 ,  0.37158 ],\n",
       "       [ 0.35084 , -0.031994]])"
      ]
     },
     "execution_count": 10,
     "metadata": {},
     "output_type": "execute_result"
    }
   ],
   "source": [
    "X_75"
   ]
  },
  {
   "cell_type": "markdown",
   "id": "f9b37050-ff2a-47ce-8d39-6b107b6c1cdc",
   "metadata": {},
   "source": [
    "## 自作モデルでの実行"
   ]
  },
  {
   "cell_type": "code",
   "execution_count": 11,
   "id": "ce09befd-bc23-44fb-ac54-03067d40db27",
   "metadata": {},
   "outputs": [
    {
     "data": {
      "text/plain": [
       "'max_IG : 0.03703703703703712'"
      ]
     },
     "metadata": {},
     "output_type": "display_data"
    },
    {
     "data": {
      "text/plain": [
       "'index : 0, col : 0, X : -0.12243'"
      ]
     },
     "metadata": {},
     "output_type": "display_data"
    },
    {
     "data": {
      "text/plain": [
       "'left_count : [11  7], right_count : [4 8]'"
      ]
     },
     "metadata": {},
     "output_type": "display_data"
    },
    {
     "data": {
      "text/plain": [
       "'max_IG : 0.05656108597285073'"
      ]
     },
     "metadata": {},
     "output_type": "display_data"
    },
    {
     "data": {
      "text/plain": [
       "'index : 8, col : 0, X : -0.44699'"
      ]
     },
     "metadata": {},
     "output_type": "display_data"
    },
    {
     "data": {
      "text/plain": [
       "'left_count : [11  6], right_count : [4 9]'"
      ]
     },
     "metadata": {},
     "output_type": "display_data"
    },
    {
     "data": {
      "text/plain": [
       "'max_IG : 0.06613756613756616'"
      ]
     },
     "metadata": {},
     "output_type": "display_data"
    },
    {
     "data": {
      "text/plain": [
       "'index : 17, col : 1, X : -2.2135'"
      ]
     },
     "metadata": {},
     "output_type": "display_data"
    },
    {
     "data": {
      "text/plain": [
       "'left_count : [7 2], right_count : [ 8 13]'"
      ]
     },
     "metadata": {},
     "output_type": "display_data"
    }
   ],
   "source": [
    "my_model = ScratchDecesionTreeClassifierDepth1(verbose=True)\n",
    "my_model.fit(X_75, y_75)"
   ]
  },
  {
   "cell_type": "code",
   "execution_count": 12,
   "id": "e2c35529-d134-45ff-b538-9dcfd1379640",
   "metadata": {},
   "outputs": [
    {
     "data": {
      "text/plain": [
       "array([0, 1, 1, 1, 1, 1, 1, 1, 1, 1])"
      ]
     },
     "execution_count": 12,
     "metadata": {},
     "output_type": "execute_result"
    }
   ],
   "source": [
    "my_model.predict(X_25)"
   ]
  },
  {
   "cell_type": "code",
   "execution_count": 13,
   "id": "be63c592-b03c-496a-b511-e4824c6bfc68",
   "metadata": {},
   "outputs": [
    {
     "data": {
      "text/plain": [
       "array([0, 1, 1, 1, 1, 1, 1, 1, 1, 1])"
      ]
     },
     "execution_count": 13,
     "metadata": {},
     "output_type": "execute_result"
    }
   ],
   "source": [
    "dtc.predict(X_25)"
   ]
  },
  {
   "cell_type": "markdown",
   "id": "a7893365-eaf6-4cd2-b3ab-3000b15d857f",
   "metadata": {},
   "source": [
    "とりあえず結果は同じにできた"
   ]
  },
  {
   "cell_type": "markdown",
   "id": "babde443-da38-490d-aa85-aeb3b631ff0c",
   "metadata": {},
   "source": [
    "# 【問題6】決定領域の可視化\n",
    "決定領域を可視化してください。"
   ]
  },
  {
   "cell_type": "code",
   "execution_count": 14,
   "id": "485041a2-711c-497c-9fd0-72783079cbbf",
   "metadata": {},
   "outputs": [],
   "source": [
    "from matplotlib.colors import ListedColormap\n",
    "import matplotlib.patches as mpatches\n",
    "import matplotlib.pyplot as plt\n",
    "import mglearn\n",
    "\n",
    "def decision_region(X, y, model, step=0.01, title='decision region', xlabel='x1', ylabel='x2', target_names=['0', '1']):\n",
    "    scatter_color = ['red', 'blue']\n",
    "    contourf_color = ['pink', 'skyblue']\n",
    "    n_class = 2\n",
    "    mesh_f0, mesh_f1  = np.meshgrid(np.arange(np.min(X[:,0])-0.5, np.max(X[:,0])+0.5, step), np.arange(np.min(X[:,1])-0.5, np.max(X[:,1])+0.5, step)) \n",
    "    mesh = np.c_[np.ravel(mesh_f0),np.ravel(mesh_f1)] # グラフ領域(2次元)に左上から00.01-といった形で数字をつけた\n",
    "    y_pred = model.predict(mesh).reshape(mesh_f0.shape)\n",
    "    # plot\n",
    "    #plt.subplots(figsize = (10,8))\n",
    "    plt.title(title)\n",
    "    plt.xlabel(xlabel)\n",
    "    plt.ylabel(ylabel)\n",
    "    plt.contourf(mesh_f0, mesh_f1, y_pred, n_class-1, cmap=ListedColormap(contourf_color)) # 等高線の間の色付\n",
    "    plt.contour(mesh_f0, mesh_f1, y_pred, n_class-1, colors='y', linewidths=3, alpha=0.5)# 等高線の描画\n",
    "    patches = [mpatches.Patch(color=scatter_color[i], label=target_names[i]) for i in range(n_class)] # よくわからんけど凡例の書き方を入れてる\n",
    "    mglearn.discrete_scatter(X[:, 0], X[:, 1], y)\n",
    "    plt.legend(handles=patches)\n",
    "    plt.legend()"
   ]
  },
  {
   "cell_type": "code",
   "execution_count": 15,
   "id": "480bfe1f-694c-4127-9370-b764a2851b0e",
   "metadata": {},
   "outputs": [
    {
     "data": {
      "image/png": "[encoded data removed]",
      "text/plain": [
       "<Figure size 864x576 with 1 Axes>"
      ]
     },
     "metadata": {
      "needs_background": "light"
     },
     "output_type": "display_data"
    }
   ],
   "source": [
    "plt.figure(figsize=(12, 8))\n",
    "decision_region(X_75, y_75, dtc)"
   ]
  },
  {
   "cell_type": "code",
   "execution_count": 16,
   "id": "7f326aa1-1cf4-436f-a037-82ea518161c6",
   "metadata": {},
   "outputs": [
    {
     "data": {
      "image/png": "[encoded data removed]",
      "text/plain": [
       "<Figure size 864x576 with 1 Axes>"
      ]
     },
     "metadata": {
      "needs_background": "light"
     },
     "output_type": "display_data"
    }
   ],
   "source": [
    "plt.figure(figsize=(12, 8))\n",
    "decision_region(X_75, y_75, my_model)"
   ]
  }
 ],
 "metadata": {
  "kernelspec": {
   "display_name": "Python 3",
   "language": "python",
   "name": "python3"
  },
  "language_info": {
   "codemirror_mode": {
    "name": "ipython",
    "version": 3
   },
   "file_extension": ".py",
   "mimetype": "text/x-python",
   "name": "python",
   "nbconvert_exporter": "python",
   "pygments_lexer": "ipython3",
   "version": "3.8.8"
  }
 },
 "nbformat": 4,
 "nbformat_minor": 5
}
